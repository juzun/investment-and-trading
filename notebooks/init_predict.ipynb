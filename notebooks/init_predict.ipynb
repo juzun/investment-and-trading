{
 "cells": [
  {
   "cell_type": "code",
   "execution_count": 7,
   "metadata": {},
   "outputs": [],
   "source": [
    "import yfinance as yf\n",
    "import pandas as pd\n",
    "import datetime as dt"
   ]
  },
  {
   "cell_type": "code",
   "execution_count": 14,
   "metadata": {},
   "outputs": [],
   "source": [
    "def fetch_stock_history(\n",
    "    ticker: str, start: dt.date = dt.date(2010, 1, 1), end=dt.date(2025, 1, 1)\n",
    ") -> pd.DataFrame:\n",
    "    stock_history = yf.download(\n",
    "        ticker,\n",
    "        auto_adjust=False,\n",
    "        actions=True,\n",
    "        start=start,\n",
    "        end=end,\n",
    "        multi_level_index=False,\n",
    "    )\n",
    "    return stock_history\n",
    "\n",
    "\n",
    "def process_stock_history(stock_history: pd.DataFrame) -> pd.DataFrame:\n",
    "    stock_history = stock_history[\n",
    "        [\n",
    "            \"Open\",\n",
    "            \"High\",\n",
    "            \"Low\",\n",
    "            \"Close\",\n",
    "            \"Adj Close\",\n",
    "            \"Volume\",\n",
    "            \"Dividends\",\n",
    "            \"Stock Splits\",\n",
    "        ]\n",
    "    ]\n",
    "    stock_history = stock_history.dropna()\n",
    "    stock_history[\"Return\"] = stock_history[\"Adj Close\"].pct_change()\n",
    "    stock_history[\"MA_10\"] = stock_history[\"Adj Close\"].rolling(window=10).mean()\n",
    "    stock_history[\"MA_50\"] = stock_history[\"Adj Close\"].rolling(window=50).mean()\n",
    "    stock_history = (\n",
    "        stock_history.dropna()\n",
    "    )  # drop missing MA values from beginning of history\n",
    "    return stock_history"
   ]
  },
  {
   "cell_type": "code",
   "execution_count": 31,
   "metadata": {},
   "outputs": [
    {
     "name": "stderr",
     "output_type": "stream",
     "text": [
      "[*********************100%***********************]  1 of 1 completed\n"
     ]
    },
    {
     "data": {
      "text/html": [
       "<div>\n",
       "<style scoped>\n",
       "    .dataframe tbody tr th:only-of-type {\n",
       "        vertical-align: middle;\n",
       "    }\n",
       "\n",
       "    .dataframe tbody tr th {\n",
       "        vertical-align: top;\n",
       "    }\n",
       "\n",
       "    .dataframe thead th {\n",
       "        text-align: right;\n",
       "    }\n",
       "</style>\n",
       "<table border=\"1\" class=\"dataframe\">\n",
       "  <thead>\n",
       "    <tr style=\"text-align: right;\">\n",
       "      <th></th>\n",
       "      <th>Open</th>\n",
       "      <th>High</th>\n",
       "      <th>Low</th>\n",
       "      <th>Close</th>\n",
       "      <th>Adj Close</th>\n",
       "      <th>Volume</th>\n",
       "      <th>Dividends</th>\n",
       "      <th>Stock Splits</th>\n",
       "      <th>Return</th>\n",
       "      <th>MA_10</th>\n",
       "      <th>MA_50</th>\n",
       "    </tr>\n",
       "    <tr>\n",
       "      <th>Date</th>\n",
       "      <th></th>\n",
       "      <th></th>\n",
       "      <th></th>\n",
       "      <th></th>\n",
       "      <th></th>\n",
       "      <th></th>\n",
       "      <th></th>\n",
       "      <th></th>\n",
       "      <th></th>\n",
       "      <th></th>\n",
       "      <th></th>\n",
       "    </tr>\n",
       "  </thead>\n",
       "  <tbody>\n",
       "    <tr>\n",
       "      <th>1981-02-24</th>\n",
       "      <td>0.107143</td>\n",
       "      <td>0.107143</td>\n",
       "      <td>0.106027</td>\n",
       "      <td>0.106027</td>\n",
       "      <td>0.081646</td>\n",
       "      <td>16979200</td>\n",
       "      <td>0.0</td>\n",
       "      <td>0.0</td>\n",
       "      <td>-0.035531</td>\n",
       "      <td>0.088307</td>\n",
       "      <td>0.102092</td>\n",
       "    </tr>\n",
       "    <tr>\n",
       "      <th>1981-02-25</th>\n",
       "      <td>0.112723</td>\n",
       "      <td>0.113281</td>\n",
       "      <td>0.112723</td>\n",
       "      <td>0.112723</td>\n",
       "      <td>0.086802</td>\n",
       "      <td>19488000</td>\n",
       "      <td>0.0</td>\n",
       "      <td>0.0</td>\n",
       "      <td>0.063154</td>\n",
       "      <td>0.087619</td>\n",
       "      <td>0.101851</td>\n",
       "    </tr>\n",
       "    <tr>\n",
       "      <th>1981-02-26</th>\n",
       "      <td>0.114397</td>\n",
       "      <td>0.114955</td>\n",
       "      <td>0.114397</td>\n",
       "      <td>0.114397</td>\n",
       "      <td>0.088091</td>\n",
       "      <td>10841600</td>\n",
       "      <td>0.0</td>\n",
       "      <td>0.0</td>\n",
       "      <td>0.014850</td>\n",
       "      <td>0.087361</td>\n",
       "      <td>0.101739</td>\n",
       "    </tr>\n",
       "    <tr>\n",
       "      <th>1981-02-27</th>\n",
       "      <td>0.118304</td>\n",
       "      <td>0.119420</td>\n",
       "      <td>0.118304</td>\n",
       "      <td>0.118304</td>\n",
       "      <td>0.091100</td>\n",
       "      <td>14761600</td>\n",
       "      <td>0.0</td>\n",
       "      <td>0.0</td>\n",
       "      <td>0.034153</td>\n",
       "      <td>0.087490</td>\n",
       "      <td>0.101825</td>\n",
       "    </tr>\n",
       "    <tr>\n",
       "      <th>1981-03-02</th>\n",
       "      <td>0.118862</td>\n",
       "      <td>0.119420</td>\n",
       "      <td>0.118862</td>\n",
       "      <td>0.118862</td>\n",
       "      <td>0.091530</td>\n",
       "      <td>11760000</td>\n",
       "      <td>0.0</td>\n",
       "      <td>0.0</td>\n",
       "      <td>0.004717</td>\n",
       "      <td>0.087877</td>\n",
       "      <td>0.101877</td>\n",
       "    </tr>\n",
       "  </tbody>\n",
       "</table>\n",
       "</div>"
      ],
      "text/plain": [
       "                Open      High       Low     Close  Adj Close    Volume  \\\n",
       "Date                                                                      \n",
       "1981-02-24  0.107143  0.107143  0.106027  0.106027   0.081646  16979200   \n",
       "1981-02-25  0.112723  0.113281  0.112723  0.112723   0.086802  19488000   \n",
       "1981-02-26  0.114397  0.114955  0.114397  0.114397   0.088091  10841600   \n",
       "1981-02-27  0.118304  0.119420  0.118304  0.118304   0.091100  14761600   \n",
       "1981-03-02  0.118862  0.119420  0.118862  0.118862   0.091530  11760000   \n",
       "\n",
       "            Dividends  Stock Splits    Return     MA_10     MA_50  \n",
       "Date                                                               \n",
       "1981-02-24        0.0           0.0 -0.035531  0.088307  0.102092  \n",
       "1981-02-25        0.0           0.0  0.063154  0.087619  0.101851  \n",
       "1981-02-26        0.0           0.0  0.014850  0.087361  0.101739  \n",
       "1981-02-27        0.0           0.0  0.034153  0.087490  0.101825  \n",
       "1981-03-02        0.0           0.0  0.004717  0.087877  0.101877  "
      ]
     },
     "metadata": {},
     "output_type": "display_data"
    }
   ],
   "source": [
    "ticker = \"AAPL\"\n",
    "raw_data = fetch_stock_history(ticker, start=dt.date(1950, 1, 1), end=dt.date.today())\n",
    "processed_data = process_stock_history(raw_data)\n",
    "\n",
    "display(processed_data.head())"
   ]
  },
  {
   "cell_type": "code",
   "execution_count": 30,
   "metadata": {},
   "outputs": [
    {
     "data": {
      "text/plain": [
       "Date\n",
       "1981-02-24           NaN\n",
       "1981-02-25           NaN\n",
       "1981-02-26           NaN\n",
       "1981-02-27           NaN\n",
       "1981-03-02           NaN\n",
       "                 ...    \n",
       "2025-01-22    233.201999\n",
       "2025-01-23    231.346999\n",
       "2025-01-24    229.354999\n",
       "2025-01-27    228.655998\n",
       "2025-01-28    229.041998\n",
       "Name: Adj Close, Length: 11073, dtype: float64"
      ]
     },
     "execution_count": 30,
     "metadata": {},
     "output_type": "execute_result"
    }
   ],
   "source": [
    "processed_data[\"Adj Close\"].rolling(window=10).mean()"
   ]
  },
  {
   "cell_type": "code",
   "execution_count": 29,
   "metadata": {},
   "outputs": [
    {
     "data": {
      "text/plain": [
       "Date\n",
       "1981-02-24      0.081646\n",
       "1981-02-25      0.086802\n",
       "1981-02-26      0.088091\n",
       "1981-02-27      0.091100\n",
       "1981-03-02      0.091530\n",
       "                 ...    \n",
       "2025-01-22    223.830002\n",
       "2025-01-23    223.660004\n",
       "2025-01-24    222.779999\n",
       "2025-01-27    229.860001\n",
       "2025-01-28    238.259995\n",
       "Name: Adj Close, Length: 11073, dtype: float64"
      ]
     },
     "execution_count": 29,
     "metadata": {},
     "output_type": "execute_result"
    }
   ],
   "source": [
    "processed_data[\"Adj Close\"]"
   ]
  }
 ],
 "metadata": {
  "kernelspec": {
   "display_name": "investment-and-trading-KiqkTOyt-py3.10",
   "language": "python",
   "name": "python3"
  },
  "language_info": {
   "codemirror_mode": {
    "name": "ipython",
    "version": 3
   },
   "file_extension": ".py",
   "mimetype": "text/x-python",
   "name": "python",
   "nbconvert_exporter": "python",
   "pygments_lexer": "ipython3",
   "version": "3.10.12"
  }
 },
 "nbformat": 4,
 "nbformat_minor": 2
}
